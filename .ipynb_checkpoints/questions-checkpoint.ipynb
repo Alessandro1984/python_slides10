{
 "cells": [
  {
   "cell_type": "markdown",
   "id": "9a6b30e1",
   "metadata": {
    "slideshow": {
     "slide_type": "slide"
    }
   },
   "source": [
    "# 1) Funktioniert dieser Code? Wenn Ja, was ist die Ausgabe? Wenn nicht, finden Sie den Fehler"
   ]
  },
  {
   "cell_type": "code",
   "execution_count": 5,
   "id": "bc5a36db",
   "metadata": {
    "slideshow": {
     "slide_type": "skip"
    }
   },
   "outputs": [
    {
     "name": "stdout",
     "output_type": "stream",
     "text": [
      "aaaa\n",
      "bbbb\n",
      "cccc\n"
     ]
    }
   ],
   "source": [
    "werte = [\"a\", \"b\", \"c\"]\n",
    "\n",
    "for wert in werte:\n",
    "    print((wert+wert)*2)"
   ]
  },
  {
   "cell_type": "markdown",
   "id": "b07f975f",
   "metadata": {
    "slideshow": {
     "slide_type": "subslide"
    }
   },
   "source": [
    "```python\n",
    "werte = [\"a\", \"b\", \"c\"]\n",
    "\n",
    "for wert in werte:\n",
    "    print((wert+wert)*2)\n",
    "```"
   ]
  },
  {
   "cell_type": "markdown",
   "id": "e7f3397b",
   "metadata": {
    "slideshow": {
     "slide_type": "slide"
    }
   },
   "source": [
    "# 2) Was ist die Ausgabe dieses Codes?"
   ]
  },
  {
   "cell_type": "code",
   "execution_count": 12,
   "id": "57a4f7aa",
   "metadata": {
    "slideshow": {
     "slide_type": "skip"
    }
   },
   "outputs": [
    {
     "name": "stdout",
     "output_type": "stream",
     "text": [
      "Well done!\n"
     ]
    }
   ],
   "source": [
    "x = 5\n",
    "y = 10\n",
    "\n",
    "if x < y:\n",
    "    if y%x == 0:\n",
    "        print(\"Well done!\")\n",
    "else:\n",
    "    print(\"Try again later\")"
   ]
  },
  {
   "cell_type": "markdown",
   "id": "e31b081f",
   "metadata": {
    "slideshow": {
     "slide_type": "subslide"
    }
   },
   "source": [
    "```python\n",
    "x = 5\n",
    "y = 10\n",
    "\n",
    "if x < y:\n",
    "    if y%x == 0:\n",
    "        print(\"Well done!\")\n",
    "else:\n",
    "    print(\"Try again later\")\n",
    "```"
   ]
  },
  {
   "cell_type": "markdown",
   "id": "2bfddb90",
   "metadata": {
    "slideshow": {
     "slide_type": "slide"
    }
   },
   "source": [
    "# 3) Vervollständigen Sie den Code (___), um die folgende Ausgabe zu erhalten"
   ]
  },
  {
   "cell_type": "code",
   "execution_count": 17,
   "id": "c723e3cd",
   "metadata": {
    "slideshow": {
     "slide_type": "skip"
    }
   },
   "outputs": [
    {
     "data": {
      "text/plain": [
       "[0, 1, 4, 9, 16]"
      ]
     },
     "execution_count": 17,
     "metadata": {},
     "output_type": "execute_result"
    }
   ],
   "source": [
    "res = []\n",
    "\n",
    "for k in range(0,5): \n",
    "    res.append(k**2)\n",
    "    \n",
    "res"
   ]
  },
  {
   "cell_type": "markdown",
   "id": "fbd14b42",
   "metadata": {
    "slideshow": {
     "slide_type": "subslide"
    }
   },
   "source": [
    "```python\n",
    "res = []\n",
    "\n",
    "for k in range(___): \n",
    "    res.append(___)\n",
    "    \n",
    "res\n",
    "\n",
    "[0, 1, 4, 9, 16]\n",
    "```"
   ]
  }
 ],
 "metadata": {
  "celltoolbar": "Slideshow",
  "kernelspec": {
   "display_name": "Python 3 (ipykernel)",
   "language": "python",
   "name": "python3"
  },
  "language_info": {
   "codemirror_mode": {
    "name": "ipython",
    "version": 3
   },
   "file_extension": ".py",
   "mimetype": "text/x-python",
   "name": "python",
   "nbconvert_exporter": "python",
   "pygments_lexer": "ipython3",
   "version": "3.10.6"
  },
  "toc": {
   "base_numbering": 1,
   "nav_menu": {},
   "number_sections": true,
   "sideBar": true,
   "skip_h1_title": false,
   "title_cell": "Table of Contents",
   "title_sidebar": "Contents",
   "toc_cell": false,
   "toc_position": {},
   "toc_section_display": true,
   "toc_window_display": false
  }
 },
 "nbformat": 4,
 "nbformat_minor": 5
}
