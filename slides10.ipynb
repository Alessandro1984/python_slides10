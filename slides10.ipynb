{
 "cells": [
  {
   "cell_type": "code",
   "execution_count": 1,
   "id": "f485cdb0",
   "metadata": {
    "slideshow": {
     "slide_type": "skip"
    }
   },
   "outputs": [],
   "source": [
    "import pandas as pd\n",
    "import numpy as np\n",
    "import matplotlib.pyplot as plt\n",
    "import statsmodels.api as sm\n",
    "import seaborn as sns\n",
    "df = sns.load_dataset(\"tips\")"
   ]
  },
  {
   "cell_type": "markdown",
   "id": "abfc38df",
   "metadata": {
    "slideshow": {
     "slide_type": "slide"
    }
   },
   "source": [
    "# Einführung in Python für Data Analytics\n",
    "\n",
    "<font size = \"6\">HWR Berlin</font>\n",
    "\n",
    "<i>Sommersemester 2024</i>\n",
    "\n",
    "<i>Alessandro Bramucci</i>"
   ]
  },
  {
   "cell_type": "markdown",
   "id": "61f1c42e",
   "metadata": {
    "slideshow": {
     "slide_type": "slide"
    }
   },
   "source": [
    "# Das Programm für heute\n",
    "\n",
    "1. Lineare Regression\n",
    "2. Logistische Regression\n"
   ]
  },
  {
   "cell_type": "markdown",
   "id": "78f1e300",
   "metadata": {
    "slideshow": {
     "slide_type": "slide"
    }
   },
   "source": [
    "# 1. Lineare Regression"
   ]
  },
  {
   "cell_type": "markdown",
   "id": "62bc8247",
   "metadata": {
    "slideshow": {
     "slide_type": "slide"
    }
   },
   "source": [
    "- In dieser Einheit wollen wir lernen, wie man lineare Regressionen in Python mit der Bibliothek *statsmodels* durchführt (`import statsmodels.api as sm`).\n",
    "- Eine lineare Regression ist ein statistisches Verfahren, das genutzt wird, um die Beziehung zwischen einer abhängigen Variable (oft auch Zielvariable oder Response-Variable genannt) und einer oder mehreren unabhängigen Variablen (auch Regressoren genannt) zu modellieren.\n",
    "- Das Ziel der linearen Regression ist die Parameter (oder Koeffizienten) zu schätzen die oft mit dem griechischen Buchstaben $\\beta$ bezeichnet werden. \n",
    "- Die Parameter messen die Auswirkungen der Veränderung der unabhängigen Variablen auf die abhängige Variable. \n",
    "- Wir haben keine Zeit, die Formeln für die Ermittlung der $\\beta$-Koeffizienten zu untersuchen. Die Formeln sind in jedem guten Ökonometrie-Lehrbuch zu finden.\n",
    "- In dieser Präsentation konzentrieren wir uns darauf, wie man Regressionen in Python schätzt, wie man Koeffizienten interpretiert und wie man Regressionen für Prognosen verwendet."
   ]
  },
  {
   "cell_type": "markdown",
   "id": "300d06f6",
   "metadata": {
    "slideshow": {
     "slide_type": "slide"
    }
   },
   "source": [
    "### Einfache Regression\n",
    "\n",
    "Die einfache Regressionsanalyse wird auch als \"bivariate Regression\" bezeichnet weil es nur zwei Variablen gibt, eine abhängige Variable und eine unabhängige Variable. Das Modell kann in der Form $y = \\beta_0 + \\beta_1 x + \\epsilon$ dargestellt werden, wobei\n",
    "- $y$ die abhängige Variable ist,\n",
    "- $x$ die unabhängige Variable ist,\n",
    "- $\\beta_0$ der Achsenabschnitt (*Intercept*) ist,\n",
    "- $\\beta_1$ die Steigung (*Slope*) ist, die den Effekt der unabhängigen Variable auf die abhängige Variable beschreibt,\n",
    "- $\\epsilon$ der Fehlerterm ist, der die Abweichungen der tatsächlichen Werte von den durch das Modell vorhergesagten Werten darstellt. Es wird angenommen, dass der Fehlerterm im Durchschnitt Null ist, $E(\\epsilon)=0$.\n",
    "    "
   ]
  },
  {
   "cell_type": "markdown",
   "id": "2eee1ba6",
   "metadata": {
    "slideshow": {
     "slide_type": "subslide"
    }
   },
   "source": [
    "- Für diese Übung wollen wir den Datensatz *tips* aus der Biliothek *seaborn* verwenden.\n",
    "- Der Datensatz enthält Informationen über Trinkgelder, die in einem Restaurant gegeben wurden, und umfasst Variablen wie die Gesamtrechnung, den Trinkgeldbetrag, das Geschlecht der Person, die die Rechnung bezahlt, ob es Raucher in der Gruppe gab, den Wochentag, die Tageszeit und die Größe der Gruppe.\n",
    "- Wir möchten eine bivariate lineare Regression schätzen, die den Trinkgeldbetrag (abhängige Variable) und die Gesamtrechnung (unabhängige Variable) in Beziehung setzt.\n",
    "\n",
    "$$\\text{tip_amount} = \\beta_0 + \\beta_1 \\text{total_bill} + \\epsilon$$\n",
    "\n",
    "- Importieren Sie die Bibliothek *seaborn*, wenn Sie die Übung replizieren möchten `import seaborn as sns`. Dann `df = sns.load_dataset(\"tips\")`."
   ]
  },
  {
   "cell_type": "code",
   "execution_count": 2,
   "id": "debfaa82",
   "metadata": {
    "slideshow": {
     "slide_type": "subslide"
    }
   },
   "outputs": [
    {
     "name": "stdout",
     "output_type": "stream",
     "text": [
      "<class 'pandas.core.frame.DataFrame'>\n",
      "RangeIndex: 244 entries, 0 to 243\n",
      "Data columns (total 7 columns):\n",
      " #   Column      Non-Null Count  Dtype   \n",
      "---  ------      --------------  -----   \n",
      " 0   total_bill  244 non-null    float64 \n",
      " 1   tip         244 non-null    float64 \n",
      " 2   sex         244 non-null    category\n",
      " 3   smoker      244 non-null    category\n",
      " 4   day         244 non-null    category\n",
      " 5   time        244 non-null    category\n",
      " 6   size        244 non-null    int64   \n",
      "dtypes: category(4), float64(2), int64(1)\n",
      "memory usage: 7.4 KB\n"
     ]
    }
   ],
   "source": [
    "df.info()"
   ]
  },
  {
   "cell_type": "code",
   "execution_count": 3,
   "id": "d3a98e99",
   "metadata": {
    "slideshow": {
     "slide_type": "subslide"
    }
   },
   "outputs": [
    {
     "data": {
      "text/html": [
       "<div>\n",
       "<style scoped>\n",
       "    .dataframe tbody tr th:only-of-type {\n",
       "        vertical-align: middle;\n",
       "    }\n",
       "\n",
       "    .dataframe tbody tr th {\n",
       "        vertical-align: top;\n",
       "    }\n",
       "\n",
       "    .dataframe thead th {\n",
       "        text-align: right;\n",
       "    }\n",
       "</style>\n",
       "<table border=\"1\" class=\"dataframe\">\n",
       "  <thead>\n",
       "    <tr style=\"text-align: right;\">\n",
       "      <th></th>\n",
       "      <th>total_bill</th>\n",
       "      <th>tip</th>\n",
       "      <th>size</th>\n",
       "    </tr>\n",
       "  </thead>\n",
       "  <tbody>\n",
       "    <tr>\n",
       "      <th>count</th>\n",
       "      <td>244.000000</td>\n",
       "      <td>244.000000</td>\n",
       "      <td>244.000000</td>\n",
       "    </tr>\n",
       "    <tr>\n",
       "      <th>mean</th>\n",
       "      <td>19.785943</td>\n",
       "      <td>2.998279</td>\n",
       "      <td>2.569672</td>\n",
       "    </tr>\n",
       "    <tr>\n",
       "      <th>std</th>\n",
       "      <td>8.902412</td>\n",
       "      <td>1.383638</td>\n",
       "      <td>0.951100</td>\n",
       "    </tr>\n",
       "    <tr>\n",
       "      <th>min</th>\n",
       "      <td>3.070000</td>\n",
       "      <td>1.000000</td>\n",
       "      <td>1.000000</td>\n",
       "    </tr>\n",
       "    <tr>\n",
       "      <th>25%</th>\n",
       "      <td>13.347500</td>\n",
       "      <td>2.000000</td>\n",
       "      <td>2.000000</td>\n",
       "    </tr>\n",
       "    <tr>\n",
       "      <th>50%</th>\n",
       "      <td>17.795000</td>\n",
       "      <td>2.900000</td>\n",
       "      <td>2.000000</td>\n",
       "    </tr>\n",
       "    <tr>\n",
       "      <th>75%</th>\n",
       "      <td>24.127500</td>\n",
       "      <td>3.562500</td>\n",
       "      <td>3.000000</td>\n",
       "    </tr>\n",
       "    <tr>\n",
       "      <th>max</th>\n",
       "      <td>50.810000</td>\n",
       "      <td>10.000000</td>\n",
       "      <td>6.000000</td>\n",
       "    </tr>\n",
       "  </tbody>\n",
       "</table>\n",
       "</div>"
      ],
      "text/plain": [
       "       total_bill         tip        size\n",
       "count  244.000000  244.000000  244.000000\n",
       "mean    19.785943    2.998279    2.569672\n",
       "std      8.902412    1.383638    0.951100\n",
       "min      3.070000    1.000000    1.000000\n",
       "25%     13.347500    2.000000    2.000000\n",
       "50%     17.795000    2.900000    2.000000\n",
       "75%     24.127500    3.562500    3.000000\n",
       "max     50.810000   10.000000    6.000000"
      ]
     },
     "execution_count": 3,
     "metadata": {},
     "output_type": "execute_result"
    }
   ],
   "source": [
    "df.describe()"
   ]
  },
  {
   "cell_type": "markdown",
   "id": "3547b268",
   "metadata": {
    "slideshow": {
     "slide_type": "subslide"
    }
   },
   "source": [
    "```python\n",
    "y = df[\"tip\"]\n",
    "\n",
    "X = df[\"total_bill\"]\n",
    "\n",
    "X = sm.add_constant(X)\n",
    "\n",
    "model = sm.OLS(y, X).fit()\n",
    "\n",
    "print(model.summary())\n",
    "```"
   ]
  },
  {
   "cell_type": "code",
   "execution_count": 4,
   "id": "29aaf208",
   "metadata": {
    "slideshow": {
     "slide_type": "subslide"
    }
   },
   "outputs": [
    {
     "name": "stdout",
     "output_type": "stream",
     "text": [
      "                            OLS Regression Results                            \n",
      "==============================================================================\n",
      "Dep. Variable:                    tip   R-squared:                       0.457\n",
      "Model:                            OLS   Adj. R-squared:                  0.454\n",
      "Method:                 Least Squares   F-statistic:                     203.4\n",
      "Date:                Sun, 16 Jun 2024   Prob (F-statistic):           6.69e-34\n",
      "Time:                        22:38:34   Log-Likelihood:                -350.54\n",
      "No. Observations:                 244   AIC:                             705.1\n",
      "Df Residuals:                     242   BIC:                             712.1\n",
      "Df Model:                           1                                         \n",
      "Covariance Type:            nonrobust                                         \n",
      "==============================================================================\n",
      "                 coef    std err          t      P>|t|      [0.025      0.975]\n",
      "------------------------------------------------------------------------------\n",
      "const          0.9203      0.160      5.761      0.000       0.606       1.235\n",
      "total_bill     0.1050      0.007     14.260      0.000       0.091       0.120\n",
      "==============================================================================\n",
      "Omnibus:                       20.185   Durbin-Watson:                   2.151\n",
      "Prob(Omnibus):                  0.000   Jarque-Bera (JB):               37.750\n",
      "Skew:                           0.443   Prob(JB):                     6.35e-09\n",
      "Kurtosis:                       4.711   Cond. No.                         53.0\n",
      "==============================================================================\n",
      "\n",
      "Notes:\n",
      "[1] Standard Errors assume that the covariance matrix of the errors is correctly specified.\n"
     ]
    }
   ],
   "source": [
    "y = df[\"tip\"]\n",
    "X = df[\"total_bill\"]\n",
    "X = sm.add_constant(X)\n",
    "model = sm.OLS(y, X).fit()\n",
    "\n",
    "print(model.summary())"
   ]
  },
  {
   "cell_type": "code",
   "execution_count": 5,
   "id": "5fad6bc4",
   "metadata": {
    "slideshow": {
     "slide_type": "subslide"
    }
   },
   "outputs": [
    {
     "data": {
      "image/png": "[encoded data removed]",
      "text/plain": [
       "<Figure size 500x500 with 1 Axes>"
      ]
     },
     "metadata": {},
     "output_type": "display_data"
    }
   ],
   "source": [
    "sns.lmplot(x = \"total_bill\", y = \"tip\", ci = None, data = df);"
   ]
  },
  {
   "cell_type": "markdown",
   "id": "ee53b9bf",
   "metadata": {
    "slideshow": {
     "slide_type": "subslide"
    }
   },
   "source": [
    "- Eine Erhöhung der Rechnung (*bill*) um einen Dollar bedeutet eine durchschnittliche Erhöhung des Trinkgeldes (*tip*) von $\\$0,1050$.\n",
    "- Wir können nun unsere geschätzten Koeffizienten verwenden, um Prognosen zu erstellen.\n",
    "- Wie hoch ist das Trinkgeld, wenn die Rechnung $\\$50$ beträgt?\n",
    "\n",
    "$$0.9203 + 0.1050 \\cdot 50 = 6.1703$$\n",
    "\n",
    "- Nun wollen wir die gleiche Operation mit Python wiederholen (kleine Abweichungen aufgrund von Rundungsfehlern)."
   ]
  },
  {
   "cell_type": "markdown",
   "id": "a1b6eba4",
   "metadata": {
    "slideshow": {
     "slide_type": "subslide"
    }
   },
   "source": [
    "```python\n",
    "X_predict = pd.DataFrame({\n",
    "    'total_bill': [50]      \n",
    "})\n",
    "\n",
    "X_predict = sm.add_constant(X_predict, has_constant='add')\n",
    "\n",
    "prediction = model.predict(X_predict)\n",
    "\n",
    "prediction\n",
    "```"
   ]
  },
  {
   "cell_type": "code",
   "execution_count": 6,
   "id": "afad2518",
   "metadata": {
    "slideshow": {
     "slide_type": "subslide"
    }
   },
   "outputs": [
    {
     "data": {
      "text/plain": [
       "0    6.171495\n",
       "dtype: float64"
      ]
     },
     "execution_count": 6,
     "metadata": {},
     "output_type": "execute_result"
    }
   ],
   "source": [
    "X_predict = pd.DataFrame({\n",
    "    'total_bill': [50]      \n",
    "})\n",
    "\n",
    "X_predict = sm.add_constant(X_predict, has_constant='add')\n",
    "\n",
    "prediction = model.predict(X_predict)\n",
    "\n",
    "prediction"
   ]
  },
  {
   "cell_type": "markdown",
   "id": "bd09e0ef",
   "metadata": {
    "slideshow": {
     "slide_type": "slide"
    }
   },
   "source": [
    "### Multiple lineare Regression\n",
    "\n",
    "Multiple lineare Regression: Hierbei gibt es zwei oder mehr unabhängige Variablen. Das Modell kann in der Form $y = \\beta_0 + \\beta_1 x_1 + \\beta_2 x_2 + ... + \\beta_n x_n + \\epsilon$ dargestellt werden, wobei:\n",
    "- $y$ die abhängige Variable ist,\n",
    "- $x_1, x_2, ..., x_n$ die unabhängigen Variablen sind,\n",
    "- $\\beta_0$ der Achsenabschnitt (*Intercept*) ist,\n",
    "- $\\beta_1, \\beta_2, ..., \\beta_n$ die Koeffizienten sind, die die Effekte der jeweiligen unabhängigen Variablen auf die abhängige Variable beschreiben,\n",
    "- $\\epsilon$ der Fehlerterm ist (Annahme $E(\\epsilon)=0$)."
   ]
  },
  {
   "cell_type": "markdown",
   "id": "5a716e18",
   "metadata": {
    "slideshow": {
     "slide_type": "subslide"
    }
   },
   "source": [
    "- Nun wollen wir die Übung von oben erweitern. Diesmal fügen wir die Kontrollvariable Raucher (*smoker*) hinzu.\n",
    "- Damit können wir untersuchen, ob Raucher im Durchschnitt mehr Trinkgeld geben.\n",
    "- Da wir zwei unabhängige Variablen haben, werden wir drei Koeffizienten schätzen, einen Achsenabschnitt $\\beta_0$ und zwei Steigungskoeffizienten $\\beta_1$ und $\\beta_2$.\n",
    "\n",
    "$$\\text{tip_amount} = \\beta_0 + \\beta_1 \\text{total_bill} + \\beta_2 \\text{smoker} + \\epsilon$$\n",
    "\n",
    "- Zunächst müssen wir eine Dummy-Variable erstellen, die den Wert $1$ annimmt, wenn der Kunde raucht, und sonst $0$.\n",
    "\n",
    "```python\n",
    "df['smoker_yes'] = np.where(df['smoker'] == 'Yes', 1, 0)\n",
    "```"
   ]
  },
  {
   "cell_type": "markdown",
   "id": "d461f434",
   "metadata": {
    "slideshow": {
     "slide_type": "subslide"
    }
   },
   "source": [
    "```python\n",
    "y_ml = df[\"tip\"]\n",
    "\n",
    "X_ml = df[[\"total_bill\", \"smoker_yes\"]]\n",
    "\n",
    "X_ml = sm.add_constant(X_ml)\n",
    "\n",
    "model_ml = sm.OLS(y_ml, X_ml).fit()\n",
    "\n",
    "print(model_ml.summary())\n",
    "```"
   ]
  },
  {
   "cell_type": "code",
   "execution_count": 7,
   "id": "a386b6c4",
   "metadata": {
    "scrolled": false,
    "slideshow": {
     "slide_type": "subslide"
    }
   },
   "outputs": [
    {
     "name": "stdout",
     "output_type": "stream",
     "text": [
      "                            OLS Regression Results                            \n",
      "==============================================================================\n",
      "Dep. Variable:                    tip   R-squared:                       0.459\n",
      "Model:                            OLS   Adj. R-squared:                  0.455\n",
      "Method:                 Least Squares   F-statistic:                     102.4\n",
      "Date:                Sun, 16 Jun 2024   Prob (F-statistic):           6.57e-33\n",
      "Time:                        22:38:34   Log-Likelihood:                -349.93\n",
      "No. Observations:                 244   AIC:                             705.9\n",
      "Df Residuals:                     241   BIC:                             716.3\n",
      "Df Model:                           2                                         \n",
      "Covariance Type:            nonrobust                                         \n",
      "==============================================================================\n",
      "                 coef    std err          t      P>|t|      [0.025      0.975]\n",
      "------------------------------------------------------------------------------\n",
      "const          0.9632      0.164      5.861      0.000       0.639       1.287\n",
      "total_bill     0.1057      0.007     14.309      0.000       0.091       0.120\n",
      "smoker_yes    -0.1489      0.135     -1.102      0.272      -0.415       0.117\n",
      "==============================================================================\n",
      "Omnibus:                       23.655   Durbin-Watson:                   2.150\n",
      "Prob(Omnibus):                  0.000   Jarque-Bera (JB):               43.834\n",
      "Skew:                           0.524   Prob(JB):                     3.03e-10\n",
      "Kurtosis:                       4.792   Cond. No.                         57.0\n",
      "==============================================================================\n",
      "\n",
      "Notes:\n",
      "[1] Standard Errors assume that the covariance matrix of the errors is correctly specified.\n"
     ]
    }
   ],
   "source": [
    "df['smoker_yes'] = np.where(df['smoker'] == 'Yes', 1, 0)\n",
    "\n",
    "y = df[\"tip\"]\n",
    "\n",
    "X = df[[\"total_bill\", \"smoker_yes\"]]\n",
    "\n",
    "X = sm.add_constant(X)\n",
    "\n",
    "model_ml = sm.OLS(y, X).fit()\n",
    "\n",
    "print(model_ml.summary())"
   ]
  },
  {
   "cell_type": "markdown",
   "id": "c57ed7d4",
   "metadata": {
    "slideshow": {
     "slide_type": "subslide"
    }
   },
   "source": [
    "- Ähnlich wie bei der bivariaten Regression, bedeutet eine Erhöhung der Rechnung (*bill*) um einen Dollar eine durchschnittliche Erhöhung des Trinkgeldes (*tip*) um $\\$0.1057$.\n",
    "- Geben Raucher mehr Trinkgeld als Nichtraucher? Nein. Ein Raucher lässt im Durchschnitt $\\$ 0.1489$ weniger Trinkgeld als ein Nichtraucher.\n",
    "- Wir können nun noch eine Prognose erstellen. Diesmal können wir den Effekt einbeziehen, dass der Kunde ein Raucher ist oder nicht. Bei einer Rechnung von $\\$50$ gibt ein Raucher ein Trinkgeld von:\n",
    "\n",
    "$$0.9632 + 0.1057 \\cdot 50 - 0.1489 \\cdot 1 = 6.0992$$\n",
    "\n",
    "- Ein Nichtraucher gibt ein Trinkgeld von:\n",
    "\n",
    "$$0.9632 + 0.1057 \\cdot 50 - 0.1489 \\cdot 0 = 6.2482$$\n",
    "\n",
    "- Nun wollen wir die gleiche Operation mit Python wiederholen (kleine Abweichungen aufgrund von Rundungsfehlern)."
   ]
  },
  {
   "cell_type": "markdown",
   "id": "1e29db4a",
   "metadata": {
    "slideshow": {
     "slide_type": "subslide"
    }
   },
   "source": [
    "```python\n",
    "X_predict_ml = pd.DataFrame({\n",
    "    'total_bill': [50],\n",
    "    'smoker_yes': [1]\n",
    "})\n",
    "\n",
    "X_predict_ml = sm.add_constant(X_predict_ml, has_constant='add')\n",
    "\n",
    "prediction_ml = model_ml.predict(X_predict_ml)\n",
    "\n",
    "prediction_ml\n",
    "```"
   ]
  },
  {
   "cell_type": "code",
   "execution_count": 8,
   "id": "1ab5fd78",
   "metadata": {
    "slideshow": {
     "slide_type": "subslide"
    }
   },
   "outputs": [
    {
     "data": {
      "text/plain": [
       "0    6.100419\n",
       "dtype: float64"
      ]
     },
     "execution_count": 8,
     "metadata": {},
     "output_type": "execute_result"
    }
   ],
   "source": [
    "X_predict_ml = pd.DataFrame({\n",
    "    'total_bill': [50],\n",
    "    'smoker_yes': [1]\n",
    "})\n",
    "\n",
    "X_predict_ml = sm.add_constant(X_predict_ml, has_constant='add')\n",
    "\n",
    "prediction_ml = model_ml.predict(X_predict_ml)\n",
    "\n",
    "prediction_ml"
   ]
  },
  {
   "cell_type": "markdown",
   "id": "ee830009",
   "metadata": {
    "slideshow": {
     "slide_type": "slide"
    }
   },
   "source": [
    "# 2. Logistische Regression"
   ]
  },
  {
   "cell_type": "markdown",
   "id": "de61d116",
   "metadata": {
    "slideshow": {
     "slide_type": "slide"
    }
   },
   "source": [
    "- Die logistische Regression ist ein statistisches Modell, das verwendet wird, um die Wahrscheinlichkeit eines Ereignisses zu modellieren, das zwei mögliche Ausgänge hat (binär).\n",
    "- Im Gegensatz zur linearen Regression, die eine kontinuierliche abhängige Variable vorhersagt, wird bei der logistischen Regression eine kategorische abhängige Variable vorhergesagt, typischerweise mit zwei Klassen (z.B. Ja/Nein, Erfolg/Misserfolg).\n",
    "- Die logistische Regression verwendet die logistische Funktion (auch Sigmoid-Funktion genannt), um die Wahrscheinlichkeiten zu modellieren, dass eine bestimmte Beobachtung zu einer der beiden Kategorien gehört. \n",
    "- Diese Funktion hat den Vorteil, dass sie Werte zwischen 0 und 1 ausgibt, was sie ideal für Wahrscheinlichkeiten macht.\n",
    "- Der Maximum-Likelihood-Verfahren wird genutzt zur Schätzung der Koeffizienten.\n",
    "- Ähnlich wie bei einer linearen Regression kann die logistische Regression eine oder mehrere unabhängige Variablen haben."
   ]
  },
  {
   "cell_type": "markdown",
   "id": "0751447a",
   "metadata": {
    "slideshow": {
     "slide_type": "subslide"
    }
   },
   "source": [
    "- Wenn es mehrere unabhängige Variablen gibt:\n",
    "\n",
    "$$ln\\frac{p}{1-p} = \\beta_0 + \\beta_1 x_1 + ... + \\beta_n x_n$$\n",
    "\n",
    "- Die linke Seite ist das so genannte Log-Odds-Ratio. Das ist nicht einfach zu interpretieren. Was wir leicht interpretieren können, ist die Wahrscheinlichkeit $p$. Mit etwas Manipulation erhalten wir:\n",
    "\n",
    "$$ p = \\frac{1}{1 + e^{-(\\beta_0 + \\beta_1 x_1 + ... + \\beta_n x_n)}} $$\n",
    "\n",
    "- $p$ ist die Wahrscheinlichkeit, dass das Ereignis eintritt, gegeben die unabhängigen Variablen $x_1, ..., x_n$."
   ]
  },
  {
   "cell_type": "markdown",
   "id": "4b0deb09",
   "metadata": {
    "slideshow": {
     "slide_type": "subslide"
    }
   },
   "source": [
    "- Für diese Übung verwenden wir einen anderen Datensatz. Der Datensatz enthält Informationen über die Noten einiger Studierende (*score*) und die Anzahl der Stunden, die die Studierende mit Lernen verbracht haben (*hours*). Wir haben auch Informationen über das Geschlecht.[^1]\n",
    "- Unser Ziel ist es, die Wahrscheinlichkeit für das Bestehen der Prüfung in Abhängigkeit von der Studienzeit zu schätzen. Wir können auch kontrollieren, ob es Unterschiede zwischen Frauen und Männern gibt.\n",
    "- Einige Variablen sind nicht vorhanden und müssen definiert werden.\n",
    "- Wenn Sie die Übung wiederholen möchten, sollten Sie zunächst die Daten herunterladen.\n",
    "\n",
    "[^1]: Die Daten sind simuliert 😁"
   ]
  },
  {
   "cell_type": "markdown",
   "id": "6b551be8",
   "metadata": {
    "slideshow": {
     "slide_type": "subslide"
    }
   },
   "source": [
    "```python\n",
    "url = \"https://www.alessandrobramucci.com/grades.csv\"\n",
    "\n",
    "df = pd.read_csv(url)\n",
    "\n",
    "df.to_csv(\"data/gapminder.csv\", sep = \";\", decimal = \".\")\n",
    "```"
   ]
  },
  {
   "cell_type": "code",
   "execution_count": 9,
   "id": "46f72d65",
   "metadata": {
    "slideshow": {
     "slide_type": "subslide"
    }
   },
   "outputs": [
    {
     "data": {
      "text/html": [
       "<div>\n",
       "<style scoped>\n",
       "    .dataframe tbody tr th:only-of-type {\n",
       "        vertical-align: middle;\n",
       "    }\n",
       "\n",
       "    .dataframe tbody tr th {\n",
       "        vertical-align: top;\n",
       "    }\n",
       "\n",
       "    .dataframe thead th {\n",
       "        text-align: right;\n",
       "    }\n",
       "</style>\n",
       "<table border=\"1\" class=\"dataframe\">\n",
       "  <thead>\n",
       "    <tr style=\"text-align: right;\">\n",
       "      <th></th>\n",
       "      <th>score</th>\n",
       "      <th>hours</th>\n",
       "      <th>gender</th>\n",
       "    </tr>\n",
       "  </thead>\n",
       "  <tbody>\n",
       "    <tr>\n",
       "      <th>0</th>\n",
       "      <td>75</td>\n",
       "      <td>4.0</td>\n",
       "      <td>Male</td>\n",
       "    </tr>\n",
       "    <tr>\n",
       "      <th>1</th>\n",
       "      <td>83</td>\n",
       "      <td>5.0</td>\n",
       "      <td>Male</td>\n",
       "    </tr>\n",
       "    <tr>\n",
       "      <th>2</th>\n",
       "      <td>55</td>\n",
       "      <td>3.5</td>\n",
       "      <td>Female</td>\n",
       "    </tr>\n",
       "    <tr>\n",
       "      <th>3</th>\n",
       "      <td>30</td>\n",
       "      <td>1.5</td>\n",
       "      <td>Male</td>\n",
       "    </tr>\n",
       "    <tr>\n",
       "      <th>4</th>\n",
       "      <td>79</td>\n",
       "      <td>3.0</td>\n",
       "      <td>Female</td>\n",
       "    </tr>\n",
       "  </tbody>\n",
       "</table>\n",
       "</div>"
      ],
      "text/plain": [
       "   score  hours  gender\n",
       "0     75    4.0    Male\n",
       "1     83    5.0    Male\n",
       "2     55    3.5  Female\n",
       "3     30    1.5    Male\n",
       "4     79    3.0  Female"
      ]
     },
     "execution_count": 9,
     "metadata": {},
     "output_type": "execute_result"
    }
   ],
   "source": [
    "url = \"https://www.alessandrobramucci.com/grades.csv\"\n",
    "\n",
    "df = pd.read_csv(url)\n",
    "\n",
    "df.to_csv(\"data/gapminder.csv\", sep = \";\", decimal = \".\")\n",
    "\n",
    "df.head()"
   ]
  },
  {
   "cell_type": "code",
   "execution_count": 10,
   "id": "10d63b48",
   "metadata": {
    "slideshow": {
     "slide_type": "subslide"
    }
   },
   "outputs": [
    {
     "name": "stdout",
     "output_type": "stream",
     "text": [
      "<class 'pandas.core.frame.DataFrame'>\n",
      "RangeIndex: 22 entries, 0 to 21\n",
      "Data columns (total 3 columns):\n",
      " #   Column  Non-Null Count  Dtype  \n",
      "---  ------  --------------  -----  \n",
      " 0   score   22 non-null     int64  \n",
      " 1   hours   22 non-null     float64\n",
      " 2   gender  22 non-null     object \n",
      "dtypes: float64(1), int64(1), object(1)\n",
      "memory usage: 656.0+ bytes\n"
     ]
    }
   ],
   "source": [
    "df.info()"
   ]
  },
  {
   "cell_type": "code",
   "execution_count": 11,
   "id": "917798ea",
   "metadata": {
    "slideshow": {
     "slide_type": "subslide"
    }
   },
   "outputs": [
    {
     "data": {
      "text/html": [
       "<div>\n",
       "<style scoped>\n",
       "    .dataframe tbody tr th:only-of-type {\n",
       "        vertical-align: middle;\n",
       "    }\n",
       "\n",
       "    .dataframe tbody tr th {\n",
       "        vertical-align: top;\n",
       "    }\n",
       "\n",
       "    .dataframe thead th {\n",
       "        text-align: right;\n",
       "    }\n",
       "</style>\n",
       "<table border=\"1\" class=\"dataframe\">\n",
       "  <thead>\n",
       "    <tr style=\"text-align: right;\">\n",
       "      <th></th>\n",
       "      <th>score</th>\n",
       "      <th>hours</th>\n",
       "    </tr>\n",
       "  </thead>\n",
       "  <tbody>\n",
       "    <tr>\n",
       "      <th>count</th>\n",
       "      <td>22.000000</td>\n",
       "      <td>22.000000</td>\n",
       "    </tr>\n",
       "    <tr>\n",
       "      <th>mean</th>\n",
       "      <td>53.909091</td>\n",
       "      <td>4.000000</td>\n",
       "    </tr>\n",
       "    <tr>\n",
       "      <th>std</th>\n",
       "      <td>30.885208</td>\n",
       "      <td>2.079606</td>\n",
       "    </tr>\n",
       "    <tr>\n",
       "      <th>min</th>\n",
       "      <td>10.000000</td>\n",
       "      <td>0.000000</td>\n",
       "    </tr>\n",
       "    <tr>\n",
       "      <th>25%</th>\n",
       "      <td>24.750000</td>\n",
       "      <td>2.812500</td>\n",
       "    </tr>\n",
       "    <tr>\n",
       "      <th>50%</th>\n",
       "      <td>51.000000</td>\n",
       "      <td>3.875000</td>\n",
       "    </tr>\n",
       "    <tr>\n",
       "      <th>75%</th>\n",
       "      <td>83.000000</td>\n",
       "      <td>5.375000</td>\n",
       "    </tr>\n",
       "    <tr>\n",
       "      <th>max</th>\n",
       "      <td>95.000000</td>\n",
       "      <td>8.000000</td>\n",
       "    </tr>\n",
       "  </tbody>\n",
       "</table>\n",
       "</div>"
      ],
      "text/plain": [
       "           score      hours\n",
       "count  22.000000  22.000000\n",
       "mean   53.909091   4.000000\n",
       "std    30.885208   2.079606\n",
       "min    10.000000   0.000000\n",
       "25%    24.750000   2.812500\n",
       "50%    51.000000   3.875000\n",
       "75%    83.000000   5.375000\n",
       "max    95.000000   8.000000"
      ]
     },
     "execution_count": 11,
     "metadata": {},
     "output_type": "execute_result"
    }
   ],
   "source": [
    "df.describe()"
   ]
  },
  {
   "cell_type": "markdown",
   "id": "1ecde0d0",
   "metadata": {
    "slideshow": {
     "slide_type": "subslide"
    }
   },
   "source": [
    "- Wir definieren eine Variable Bestanden (*passed*), wenn der Studierende die Prüfung bestanden hat. Die Variable nimmt den Wert $1$ an, wenn die Benotung (*score*) größer als oder gleich 50 ist.\n",
    "\n",
    "```python\n",
    "df['passed'] = np.where(df['score'] >= 50, 1, 0)\n",
    "```\n",
    "\n",
    "- Wir erstellen auch eine Variable Männlich (*male*), wenn der Studierende männlich ist.\n",
    "\n",
    "```python\n",
    "df['male'] = np.where(df['gender'] == 'Male', 1, 0)\n",
    "```\n",
    "\n",
    "- Dann führen wir eine logistische Regression durch, bei der die abhängige Variable *passed* und die unabhängigen Variablen *hours* und *male* sind."
   ]
  },
  {
   "cell_type": "code",
   "execution_count": 12,
   "id": "346c1036",
   "metadata": {
    "slideshow": {
     "slide_type": "subslide"
    }
   },
   "outputs": [
    {
     "data": {
      "text/html": [
       "<div>\n",
       "<style scoped>\n",
       "    .dataframe tbody tr th:only-of-type {\n",
       "        vertical-align: middle;\n",
       "    }\n",
       "\n",
       "    .dataframe tbody tr th {\n",
       "        vertical-align: top;\n",
       "    }\n",
       "\n",
       "    .dataframe thead th {\n",
       "        text-align: right;\n",
       "    }\n",
       "</style>\n",
       "<table border=\"1\" class=\"dataframe\">\n",
       "  <thead>\n",
       "    <tr style=\"text-align: right;\">\n",
       "      <th></th>\n",
       "      <th>score</th>\n",
       "      <th>hours</th>\n",
       "      <th>gender</th>\n",
       "      <th>passed</th>\n",
       "      <th>male</th>\n",
       "    </tr>\n",
       "  </thead>\n",
       "  <tbody>\n",
       "    <tr>\n",
       "      <th>0</th>\n",
       "      <td>75</td>\n",
       "      <td>4.0</td>\n",
       "      <td>Male</td>\n",
       "      <td>1</td>\n",
       "      <td>1</td>\n",
       "    </tr>\n",
       "    <tr>\n",
       "      <th>1</th>\n",
       "      <td>83</td>\n",
       "      <td>5.0</td>\n",
       "      <td>Male</td>\n",
       "      <td>1</td>\n",
       "      <td>1</td>\n",
       "    </tr>\n",
       "    <tr>\n",
       "      <th>2</th>\n",
       "      <td>55</td>\n",
       "      <td>3.5</td>\n",
       "      <td>Female</td>\n",
       "      <td>1</td>\n",
       "      <td>0</td>\n",
       "    </tr>\n",
       "    <tr>\n",
       "      <th>3</th>\n",
       "      <td>30</td>\n",
       "      <td>1.5</td>\n",
       "      <td>Male</td>\n",
       "      <td>0</td>\n",
       "      <td>1</td>\n",
       "    </tr>\n",
       "    <tr>\n",
       "      <th>4</th>\n",
       "      <td>79</td>\n",
       "      <td>3.0</td>\n",
       "      <td>Female</td>\n",
       "      <td>1</td>\n",
       "      <td>0</td>\n",
       "    </tr>\n",
       "  </tbody>\n",
       "</table>\n",
       "</div>"
      ],
      "text/plain": [
       "   score  hours  gender  passed  male\n",
       "0     75    4.0    Male       1     1\n",
       "1     83    5.0    Male       1     1\n",
       "2     55    3.5  Female       1     0\n",
       "3     30    1.5    Male       0     1\n",
       "4     79    3.0  Female       1     0"
      ]
     },
     "execution_count": 12,
     "metadata": {},
     "output_type": "execute_result"
    }
   ],
   "source": [
    "df['passed'] = np.where(df['score'] >= 50, 1, 0)\n",
    "df['male'] = np.where(df['gender'] == 'Male', 1, 0)\n",
    "df.head()"
   ]
  },
  {
   "cell_type": "markdown",
   "id": "0f837517",
   "metadata": {
    "slideshow": {
     "slide_type": "subslide"
    }
   },
   "source": [
    "```python\n",
    "y_lg = df[\"passed\"]\n",
    "\n",
    "X_lg = df[[\"hours\", \"male\"]]\n",
    "\n",
    "X_lg = sm.add_constant(X_lg)\n",
    "\n",
    "model_lg = sm.Logit(y_lg, X_lg).fit()\n",
    "\n",
    "print(model_lg.summary())\n",
    "```"
   ]
  },
  {
   "cell_type": "code",
   "execution_count": 13,
   "id": "4c230669",
   "metadata": {
    "scrolled": true,
    "slideshow": {
     "slide_type": "subslide"
    }
   },
   "outputs": [
    {
     "name": "stdout",
     "output_type": "stream",
     "text": [
      "Optimization terminated successfully.\n",
      "         Current function value: 0.298158\n",
      "         Iterations 8\n",
      "                           Logit Regression Results                           \n",
      "==============================================================================\n",
      "Dep. Variable:                 passed   No. Observations:                   22\n",
      "Model:                          Logit   Df Residuals:                       19\n",
      "Method:                           MLE   Df Model:                            2\n",
      "Date:                Sun, 16 Jun 2024   Pseudo R-squ.:                  0.5698\n",
      "Time:                        22:38:35   Log-Likelihood:                -6.5595\n",
      "converged:                       True   LL-Null:                       -15.249\n",
      "Covariance Type:            nonrobust   LLR p-value:                 0.0001683\n",
      "==============================================================================\n",
      "                 coef    std err          z      P>|z|      [0.025      0.975]\n",
      "------------------------------------------------------------------------------\n",
      "const         -6.9745      3.661     -1.905      0.057     -14.150       0.201\n",
      "hours          2.0119      0.999      2.014      0.044       0.054       3.970\n",
      "male          -1.5885      1.475     -1.077      0.282      -4.480       1.303\n",
      "==============================================================================\n"
     ]
    }
   ],
   "source": [
    "y_lg = df[\"passed\"]\n",
    "\n",
    "X_lg = df[[\"hours\", \"male\"]]\n",
    "\n",
    "X_lg = sm.add_constant(X_lg)\n",
    "\n",
    "model_lg = sm.Logit(y_lg, X_lg).fit()\n",
    "\n",
    "print(model_lg.summary())"
   ]
  },
  {
   "cell_type": "markdown",
   "id": "07851797",
   "metadata": {
    "slideshow": {
     "slide_type": "subslide"
    }
   },
   "source": [
    "- Wie hoch ist die Wahrscheinlichkeit, dass ein männlicher Student, der 4 Stunden gelernt hat, die Prüfung besteht?\n",
    "\n",
    "$$ p = \\frac{1}{1 + e^{-(-6.9745 + 2.0119 \\cdot 4 - 1.5885 \\cdot 1)}} \\approx 0.3708$$\n",
    "\n",
    "- Nun wollen wir die gleiche Operation mit Python wiederholen (kleine Abweichungen aufgrund von Rundungsfehlern)."
   ]
  },
  {
   "cell_type": "markdown",
   "id": "5639a8de",
   "metadata": {
    "slideshow": {
     "slide_type": "subslide"
    }
   },
   "source": [
    "```python\n",
    "X_predict = pd.DataFrame({\n",
    "    'hours': [4],           \n",
    "    'male': [1]        \n",
    "})\n",
    "\n",
    "X_predict = sm.add_constant(X_predict, has_constant='add')\n",
    "\n",
    "predicted_probability = model_lg.predict(X_predict)\n",
    "\n",
    "print(predicted_probability)\n",
    "```"
   ]
  },
  {
   "cell_type": "code",
   "execution_count": 14,
   "id": "7df854a1",
   "metadata": {
    "slideshow": {
     "slide_type": "subslide"
    }
   },
   "outputs": [
    {
     "name": "stdout",
     "output_type": "stream",
     "text": [
      "0    0.373873\n",
      "dtype: float64\n"
     ]
    }
   ],
   "source": [
    "X_predict = pd.DataFrame({\n",
    "    'hours': [4],           \n",
    "    'male': [1]        \n",
    "})\n",
    "\n",
    "X_predict = sm.add_constant(X_predict, has_constant='add')\n",
    "\n",
    "predicted_probability = model_lg.predict(X_predict)\n",
    "\n",
    "print(predicted_probability)"
   ]
  },
  {
   "cell_type": "markdown",
   "id": "fafb2f1e",
   "metadata": {
    "slideshow": {
     "slide_type": "slide"
    }
   },
   "source": [
    "<center><font size = \"8\">Vielen Dank für Ihre Aufmerksamkeit!🐍 <font><center>"
   ]
  }
 ],
 "metadata": {
  "celltoolbar": "Slideshow",
  "kernelspec": {
   "display_name": "Python 3 (ipykernel)",
   "language": "python",
   "name": "python3"
  },
  "language_info": {
   "codemirror_mode": {
    "name": "ipython",
    "version": 3
   },
   "file_extension": ".py",
   "mimetype": "text/x-python",
   "name": "python",
   "nbconvert_exporter": "python",
   "pygments_lexer": "ipython3",
   "version": "3.10.6"
  },
  "toc": {
   "base_numbering": 1,
   "nav_menu": {},
   "number_sections": true,
   "sideBar": true,
   "skip_h1_title": false,
   "title_cell": "Table of Contents",
   "title_sidebar": "Contents",
   "toc_cell": false,
   "toc_position": {},
   "toc_section_display": true,
   "toc_window_display": false
  }
 },
 "nbformat": 4,
 "nbformat_minor": 5
}
